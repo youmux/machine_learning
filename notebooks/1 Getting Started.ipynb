{
 "cells": [
  {
   "cell_type": "code",
   "execution_count": 1,
   "metadata": {},
   "outputs": [],
   "source": [
    "# 一、入门\n",
    "# 了解TensorFlow的工作原理\n",
    "# 主要是TensorFlow的三个模型:计算模型、数据模型、运行模型"
   ]
  },
  {
   "cell_type": "code",
   "execution_count": 2,
   "metadata": {},
   "outputs": [],
   "source": [
    "import tensorflow as tf"
   ]
  },
  {
   "cell_type": "code",
   "execution_count": 3,
   "metadata": {},
   "outputs": [
    {
     "data": {
      "text/plain": [
       "array([4., 6.], dtype=float32)"
      ]
     },
     "execution_count": 3,
     "metadata": {},
     "output_type": "execute_result"
    }
   ],
   "source": [
    "# 基本使用 - 计算\n",
    "a = tf.constant([1.0, 2.0], name='a')\n",
    "b = tf.constant([3.0, 4.0], name='b')\n",
    "c = a + b\n",
    "\n",
    "sess = tf.Session()\n",
    "sess.run(c)\n",
    "# sess.close()"
   ]
  },
  {
   "cell_type": "code",
   "execution_count": null,
   "metadata": {},
   "outputs": [],
   "source": []
  },
  {
   "cell_type": "code",
   "execution_count": 4,
   "metadata": {},
   "outputs": [],
   "source": [
    "# TensorFlow的模型:计算模型、数据模型、运行模型"
   ]
  },
  {
   "cell_type": "code",
   "execution_count": 5,
   "metadata": {},
   "outputs": [
    {
     "name": "stdout",
     "output_type": "stream",
     "text": [
      "True\n",
      "[[0. 0. 0.]\n",
      " [0. 0. 0.]]\n",
      "[[1. 1. 1.]\n",
      " [1. 1. 1.]]\n"
     ]
    }
   ],
   "source": [
    "# 1.计算模型 - 计算图\n",
    "# 查看默认计算图\n",
    "print(a.graph is tf.get_default_graph())\n",
    "\n",
    "# 不同计算图上的张量和运算都不会共享\n",
    "g1 = tf.Graph()\n",
    "with g1.as_default():\n",
    "    v = tf.get_variable('v', shape=[2,3], initializer=tf.zeros_initializer)\n",
    "    \n",
    "g2 = tf.Graph()\n",
    "with g2.as_default():\n",
    "    v = tf.get_variable('v', shape=[2,3], initializer=tf.ones_initializer)\n",
    "\n",
    "# 在计算图g1中读取变量'v'\n",
    "with tf.Session(graph=g1) as sess:\n",
    "    tf.global_variables_initializer().run()\n",
    "    with tf.variable_scope('', reuse=True):\n",
    "        print(sess.run(tf.get_variable('v')))\n",
    "\n",
    "# 在计算图g2中读取变量'v'\n",
    "with tf.Session(graph=g2) as sess:\n",
    "    tf.global_variables_initializer().run()\n",
    "    with tf.variable_scope('', reuse=True):\n",
    "        print(sess.run(tf.get_variable('v')))"
   ]
  },
  {
   "cell_type": "code",
   "execution_count": null,
   "metadata": {},
   "outputs": [],
   "source": []
  },
  {
   "cell_type": "code",
   "execution_count": 6,
   "metadata": {},
   "outputs": [
    {
     "name": "stdout",
     "output_type": "stream",
     "text": [
      "Tensor(\"add_1:0\", shape=(2,), dtype=float32)\n",
      "Tensor(\"addx:0\", shape=(2,), dtype=float32)\n",
      "Tensor(\"add_2:0\", shape=(2,), dtype=float32)\n",
      "[4. 6.]\n"
     ]
    }
   ],
   "source": [
    "# 2.数据模型 - 张量\n",
    "# 张量保存的是计算过程，并非数字\n",
    "a = tf.constant([1.0, 2.0], name='a')\n",
    "b = tf.constant([3.0, 4.0], name='b', dtype=tf.float32)\n",
    "c1 = a + b    # 计算的变量类型'dtype'必须一致\n",
    "c2 = tf.add(a, b, name='addx')\n",
    "c3 = tf.constant([1.0, 2.0], name='a') + tf.constant([3.0, 4.0], name='b')\n",
    "print(c1)    # 'add:0'：命名'node:src_output'，说明'c'这个张量是计算节点'add'输出的第一个结果\n",
    "print(c2)\n",
    "print(c3)\n",
    "print(tf.Session().run(c1))    # 得到计算结果\n",
    "\n",
    "# 张量 - 可变的\n",
    "# 注:TensorFlow中存在集合(collection)的概念,所有的变量都会自动被加入到GraphKeys.VARIABLES这个集合中\n",
    "#    可以通过tf.global_variables()这个函数拿到当前计算图上的所有变量\n",
    "#    当构建机器学习模型(如神经网络)时,可以通过变量声明函数的trainable参数来区分需要优化的参数(默认为True)\n",
    "#    可以通过tf.trainable_variables函数得到所有需要优化的参数\n",
    "#    TensorFlow的神经网络优化算法会将GraphKeys.VARIABLES集合中的变量作为默认优化的对象\n",
    "# 故:不必手动实现反向传播,只需写好前向传播,TensorFlow会自动实现反向传播,且优化参数\n",
    "x = tf.Variable([1,2,3], name='weight', dtype=tf.int32)"
   ]
  },
  {
   "cell_type": "code",
   "execution_count": null,
   "metadata": {},
   "outputs": [],
   "source": []
  },
  {
   "cell_type": "code",
   "execution_count": 7,
   "metadata": {},
   "outputs": [
    {
     "name": "stdout",
     "output_type": "stream",
     "text": [
      "[4. 6.]\n"
     ]
    }
   ],
   "source": [
    "# 3.运行模型 - 会话\n",
    "# 会话拥有并管理TensorFlow程序运行时的所有支援\n",
    "# 所有计算完后，需要关闭会话，本次使用到的资源可以被释放，否则就可能出现资源泄露问题\n",
    "c = tf.constant([1.0, 2.0], name='a') + tf.constant([3.0, 4.0], name='b')\n",
    "# 使用方式1 - 手动\n",
    "sess = tf.Session()\n",
    "sess.run(c)\n",
    "sess.close()\n",
    "# 使用方式2 - 自动\n",
    "with tf.Session() as sess:\n",
    "    print(sess.run(c))"
   ]
  },
  {
   "cell_type": "code",
   "execution_count": 8,
   "metadata": {},
   "outputs": [
    {
     "name": "stdout",
     "output_type": "stream",
     "text": [
      "[4. 6.]\n",
      "[4. 6.]\n",
      "[4. 6.]\n"
     ]
    }
   ],
   "source": [
    "# 指定为默认会话后，可以用tf.Tensor.eval()函数计算张量取值\n",
    "c = tf.constant([1.0, 2.0], name='a') + tf.constant([3.0, 4.0], name='b')\n",
    "sess = tf.Session()\n",
    "\n",
    "with sess.as_default():\n",
    "    print(c.eval())\n",
    "\n",
    "print(c.eval(session=sess))    # 功能同上，但必须手动指定会话\n",
    "\n",
    "# 附:(为了方便交互式环境下的使用，TensorFlow提供了直接构建默认会话的函数)\n",
    "isess = tf.InteractiveSession()\n",
    "print(c.eval())\n",
    "isess.close()\n",
    "# print(c.eval())    # error, don't appoint session"
   ]
  },
  {
   "cell_type": "code",
   "execution_count": 9,
   "metadata": {},
   "outputs": [],
   "source": [
    "# 配置会话(Session或InteractiveSession皆可)\n",
    "# ConfigProto可以配置并行线程数、GPU分配策略、运算超时时间等\n",
    "# allow_soft_placement:允许在不支持GPU的设备上使用CPU,而不是报错\n",
    "# log_device_placement:记录每个节点被安排在那个设备上，设为False可以减少日志量\n",
    "config = tf.ConfigProto(allow_soft_placement=True, log_device_placement=True)\n",
    "sess1 = tf.Session(config=config)\n",
    "sess2 = tf.InteractiveSession(config=config)"
   ]
  }
 ],
 "metadata": {
  "kernelspec": {
   "display_name": "Python 3",
   "language": "python",
   "name": "python3"
  },
  "language_info": {
   "codemirror_mode": {
    "name": "ipython",
    "version": 3
   },
   "file_extension": ".py",
   "mimetype": "text/x-python",
   "name": "python",
   "nbconvert_exporter": "python",
   "pygments_lexer": "ipython3",
   "version": "3.5.2"
  }
 },
 "nbformat": 4,
 "nbformat_minor": 2
}

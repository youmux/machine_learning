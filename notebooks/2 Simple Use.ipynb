{
 "cells": [
  {
   "cell_type": "code",
   "execution_count": 1,
   "metadata": {},
   "outputs": [],
   "source": [
    "# 二、简单使用"
   ]
  },
  {
   "cell_type": "code",
   "execution_count": 2,
   "metadata": {},
   "outputs": [],
   "source": [
    "import tensorflow as tf"
   ]
  },
  {
   "cell_type": "code",
   "execution_count": 3,
   "metadata": {},
   "outputs": [
    {
     "data": {
      "text/plain": [
       "<tf.Tensor 'Const:0' shape=(2,) dtype=int32>"
      ]
     },
     "execution_count": 3,
     "metadata": {},
     "output_type": "execute_result"
    }
   ],
   "source": [
    "# 1.常数生成函数\n",
    "tf.zeros([2,3], tf.int32)    # 全0\n",
    "tf.ones([2,3])               # 全1\n",
    "tf.fill([2,3], 7)            # 全是指定数值\n",
    "tf.constant([2,3])           # 指定数组的常量"
   ]
  },
  {
   "cell_type": "code",
   "execution_count": null,
   "metadata": {},
   "outputs": [],
   "source": []
  },
  {
   "cell_type": "code",
   "execution_count": 4,
   "metadata": {},
   "outputs": [
    {
     "data": {
      "text/plain": [
       "<tf.Tensor 'random_gamma/Maximum:0' shape=(2, 3) dtype=float32>"
      ]
     },
     "execution_count": 4,
     "metadata": {},
     "output_type": "execute_result"
    }
   ],
   "source": [
    "# 2.随机数生成函数\n",
    "tf.random_normal([2,3], mean=0, stddev=0) # 正态分布\n",
    "tf.truncated_normal([2,3])                # 正态分布，如果随机的值偏差超过2个标准差，将会重新随机\n",
    "tf.random_uniform([2,3])                  # 均匀分布\n",
    "tf.random_gamma([2,3], alpha=2)           # Gamma分布"
   ]
  },
  {
   "cell_type": "code",
   "execution_count": null,
   "metadata": {},
   "outputs": [],
   "source": []
  },
  {
   "cell_type": "code",
   "execution_count": 5,
   "metadata": {},
   "outputs": [
    {
     "data": {
      "text/plain": [
       "array([[-1.360615 ,  0.3528607, -1.2578796],\n",
       "       [-3.2621815, -0.7785846, -1.2923843]], dtype=float32)"
      ]
     },
     "execution_count": 5,
     "metadata": {},
     "output_type": "execute_result"
    }
   ],
   "source": [
    "# 使用：创建神经网络参数的变量\n",
    "W = tf.Variable(initial_value=tf.random_normal([2,3], mean=0, stddev=2))    # 创建变均值为0，标准差为2的随机数矩阵\n",
    "\n",
    "sess = tf.Session()\n",
    "sess.run(W.initializer)            # 对W变量进行初始化\n",
    "sess.run(W.initialized_value())    # 输出值\n",
    "sess.run(W.initial_value)          # 返回tf.Variable的initial_value参数设置的值"
   ]
  },
  {
   "cell_type": "code",
   "execution_count": null,
   "metadata": {},
   "outputs": [],
   "source": []
  },
  {
   "cell_type": "code",
   "execution_count": 6,
   "metadata": {},
   "outputs": [
    {
     "name": "stdout",
     "output_type": "stream",
     "text": [
      "[[-0.40193573  0.02308324  0.10582612]]\n"
     ]
    }
   ],
   "source": [
    "# 3.计算\n",
    "W = tf.Variable(tf.random_normal([2,3], mean=0, stddev=2))\n",
    "x = tf.constant([[0.1, 0.2]])\n",
    "sess = tf.Session()\n",
    "\n",
    "y = tf.matmul(x, W)        # 矩阵叉乘，只是定义了计算图中的计算，并不是真正地运行\n",
    "sess.run(W.initializer)    # 注意!变量定义时，只是给定了初始化的方法，但这个方法并未真正运行，需要通过initializer赋值\n",
    "\n",
    "print(sess.run(y))\n",
    "# sess.close()\n",
    "\n",
    "# 附:(由于变量直接可能存在依存关系，可以通过以下方式，一次初始化所有变量)\n",
    "init_op = tf.global_variables_initializer()\n",
    "sess.run(init_op)"
   ]
  },
  {
   "cell_type": "code",
   "execution_count": null,
   "metadata": {},
   "outputs": [],
   "source": []
  },
  {
   "cell_type": "code",
   "execution_count": 7,
   "metadata": {},
   "outputs": [
    {
     "name": "stdout",
     "output_type": "stream",
     "text": [
      "[[-0.4488031   0.4264183  -0.16979326]]\n"
     ]
    }
   ],
   "source": [
    "# 4.数据占位对象 - placeholder\n",
    "# TensorFlow提供了placeholder机制用于提供输入数据的位置，避免增加常量，而生成过多的节点\n",
    "# 类型需要指定，但数据、维度都可以在程序运行时指定\n",
    "W = tf.Variable(tf.random_normal([2,3], mean=0, stddev=2))\n",
    "x = tf.placeholder(tf.float32, shape=(1,2), name='input')    # 如果维度是确定的，给出维度可以降低出错的概率\n",
    "sess = tf.Session()\n",
    "\n",
    "y = tf.matmul(x, W)        # 矩阵叉乘，只是定义了计算图中的计算，并不是真正地运行\n",
    "init_op = tf.global_variables_initializer()\n",
    "sess.run(init_op)\n",
    "\n",
    "# print(sess.run(y))       # error, x is unknow\n",
    "print(sess.run(y, feed_dict={x:[[0.1, 0.2]]}))\n",
    "# sess.close()"
   ]
  },
  {
   "cell_type": "code",
   "execution_count": null,
   "metadata": {},
   "outputs": [],
   "source": []
  },
  {
   "cell_type": "code",
   "execution_count": 9,
   "metadata": {},
   "outputs": [],
   "source": [
    "# 附:输出log\n",
    "# 使用tensorboard命令显示图示\n",
    "# 命令:tensorboard --logdir=<日志的目录路径>\n",
    "writer = tf.summary.FileWriter('/notebooks/data/logs', tf.get_default_graph())    # jupyter notebook的'/'目录在上一级中，通过终端可以找到\n",
    "writer.close()"
   ]
  }
 ],
 "metadata": {
  "kernelspec": {
   "display_name": "Python 3",
   "language": "python",
   "name": "python3"
  },
  "language_info": {
   "codemirror_mode": {
    "name": "ipython",
    "version": 3
   },
   "file_extension": ".py",
   "mimetype": "text/x-python",
   "name": "python",
   "nbconvert_exporter": "python",
   "pygments_lexer": "ipython3",
   "version": "3.5.2"
  }
 },
 "nbformat": 4,
 "nbformat_minor": 2
}

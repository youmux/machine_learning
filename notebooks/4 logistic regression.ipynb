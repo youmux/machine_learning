{
 "cells": [
  {
   "cell_type": "code",
   "execution_count": 1,
   "metadata": {},
   "outputs": [],
   "source": [
    "# 四、逻辑回归\n",
    "# 对数字0的图片进行一元分类"
   ]
  },
  {
   "cell_type": "code",
   "execution_count": 2,
   "metadata": {},
   "outputs": [],
   "source": [
    "import tensorflow as tf\n",
    "import numpy as np\n",
    "import matplotlib.pyplot as plt\n",
    "from PIL import Image\n",
    "import os"
   ]
  },
  {
   "cell_type": "code",
   "execution_count": 3,
   "metadata": {},
   "outputs": [],
   "source": [
    "# 附:加载数据函数(复制使用,需要放置指定数据集图片到指定目录)\n",
    "def load_dataset(dataset_path):\n",
    "    images = []\n",
    "    targets = []\n",
    "\n",
    "    path_root = os.listdir(dataset_path)\n",
    "    for path_root_dir in path_root: # 目录下\n",
    "        path_root_x = dataset_path + path_root_dir + '/'\n",
    "        path_root_root = os.listdir(path_root_x)    # 子目录下\n",
    "        train_sets_path = [path_root_x + filename for filename in path_root_root]\n",
    "        for path in train_sets_path:\n",
    "            image = Image.open(path)    # 加载图片\n",
    "            image_array = np.array(image)   # 转为矩阵\n",
    "            image_array_ravel = image_array.ravel() # 改变形状\n",
    "            image_array_ravel_scale = image_array_ravel / 255   # 缩放\n",
    "            images.append(image_array_ravel_scale)\n",
    "\n",
    "            l = path.split('/')\n",
    "            targets.append(1.0 if l[-2] == '0' else 0.0) # 不属于数字0的目录下的图片，结果都设为0\n",
    "            \n",
    "    X = np.stack(images)                 # 取出训练数据\n",
    "    Y = np.array(targets, ndmin=2).T     # 取出数据集结果\n",
    "    \n",
    "    return X, Y"
   ]
  },
  {
   "cell_type": "code",
   "execution_count": 4,
   "metadata": {},
   "outputs": [],
   "source": [
    "# 加载数据\n",
    "train_dataset_path = '../datasets/digital_datasets/train_images/'\n",
    "test_dataset_path = '../datasets/digital_datasets/test_images/'\n",
    "X_train, Y_train = load_dataset(train_dataset_path)\n",
    "X_test, Y_test = load_dataset(test_dataset_path)\n",
    "\n",
    "# 设置超参数\n",
    "learning_rate = 0.05\n",
    "count = 1000\n",
    "costs = []"
   ]
  },
  {
   "cell_type": "code",
   "execution_count": 5,
   "metadata": {},
   "outputs": [],
   "source": [
    "# 1.定义神经网络的结构和前向传播的输出结果\n",
    "W = tf.Variable(tf.random_normal([X_train.shape[1], 1], stddev=1, seed=1) * 0.01, name='weight')\n",
    "b = tf.Variable(tf.zeros([1]), name='bias')\n",
    "X = tf.placeholder(shape=[None, X_train.shape[1]], dtype=tf.float32)\n",
    "Y = tf.placeholder(shape=[None, 1], dtype=tf.float32)\n",
    "\n",
    "# 前向传播\n",
    "Z = tf.matmul(X, W) + b\n",
    "y = tf.sigmoid(Z)"
   ]
  },
  {
   "cell_type": "code",
   "execution_count": 6,
   "metadata": {},
   "outputs": [],
   "source": [
    "# 2.定义损失函数以及选择反向传播优化的算法\n",
    "loss = -tf.reduce_mean(Y * tf.log(tf.clip_by_value(y, 1e-10, 1.0))\n",
    "                      + (1 - Y) * tf.log(tf.clip_by_value(1 - y, 1e-10, 1.0))\n",
    "#                       + tf.contrib.layers.l2_regularizer(0.01)(W)    # regularize,0.01:lambda\n",
    "                      )\n",
    "train_step = tf.train.GradientDescentOptimizer(learning_rate).minimize(loss)"
   ]
  },
  {
   "cell_type": "code",
   "execution_count": 7,
   "metadata": {},
   "outputs": [],
   "source": [
    "# 3.生成会话并且在训练数据上反复运行反向传播优化算法\n",
    "# with tf.Session() as sess:    # 后面画图需要sess,暂时不close\n",
    "sess = tf.Session()\n",
    "sess.run(tf.global_variables_initializer())\n",
    "\n",
    "for i in range(count):\n",
    "    _, _cost = sess.run([train_step, loss], feed_dict={X:X_train, Y:Y_train})\n",
    "    costs.append(_cost)"
   ]
  },
  {
   "cell_type": "code",
   "execution_count": 8,
   "metadata": {},
   "outputs": [
    {
     "data": {
      "image/png": "[encoded data removed]",
      "text/plain": [
       "<Figure size 432x288 with 1 Axes>"
      ]
     },
     "metadata": {
      "needs_background": "light"
     },
     "output_type": "display_data"
    },
    {
     "name": "stdout",
     "output_type": "stream",
     "text": [
      "逻辑归回的准确率为:100.000000\n"
     ]
    }
   ],
   "source": [
    "# 绘图\n",
    "# 迭代代价图\n",
    "plt.plot([x for x in range(count)], costs)\n",
    "plt.show()\n",
    "# 显示准确率\n",
    "predicted = np.round(sess.run(y, feed_dict={X:X_train}))    # 预测\n",
    "predicted = predicted.astype(np.int)\n",
    "print('逻辑归回的准确率为:%f' % (np.mean(np.equal(Y_train, predicted)) * 100))\n",
    "sess.close()    # 最后手动关闭"
   ]
  }
 ],
 "metadata": {
  "kernelspec": {
   "display_name": "Python 3",
   "language": "python",
   "name": "python3"
  },
  "language_info": {
   "codemirror_mode": {
    "name": "ipython",
    "version": 3
   },
   "file_extension": ".py",
   "mimetype": "text/x-python",
   "name": "python",
   "nbconvert_exporter": "python",
   "pygments_lexer": "ipython3",
   "version": "3.5.2"
  }
 },
 "nbformat": 4,
 "nbformat_minor": 2
}

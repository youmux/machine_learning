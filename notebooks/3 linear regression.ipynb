{
 "cells": [
  {
   "cell_type": "code",
   "execution_count": 1,
   "metadata": {},
   "outputs": [],
   "source": [
    "# 三、线性回归"
   ]
  },
  {
   "cell_type": "code",
   "execution_count": 2,
   "metadata": {},
   "outputs": [],
   "source": [
    "import tensorflow as tf\n",
    "import numpy as np\n",
    "import matplotlib.pyplot as plt"
   ]
  },
  {
   "cell_type": "code",
   "execution_count": 3,
   "metadata": {},
   "outputs": [],
   "source": [
    "# 加载数据\n",
    "X_train = np.linspace(0, 1, 100)\n",
    "Y_train = X_train * 2 + np.random.randn(*X_train.shape) * 0.3 + 10\n",
    "\n",
    "# 设置超参数\n",
    "learning_rate = 0.01\n",
    "count = 300\n",
    "cost = []"
   ]
  },
  {
   "cell_type": "code",
   "execution_count": 4,
   "metadata": {},
   "outputs": [],
   "source": [
    "# 1.定义神经网络的结构和前向传播的输出结果\n",
    "w = tf.Variable(0.0, name='weight')\n",
    "b = tf.Variable(0.0, name='bias')\n",
    "X = tf.placeholder(dtype=tf.float32)\n",
    "Y = tf.placeholder(dtype=tf.float32)"
   ]
  },
  {
   "cell_type": "code",
   "execution_count": 5,
   "metadata": {},
   "outputs": [],
   "source": [
    "# 2.定义损失函数以及选择反向传播优化的算法\n",
    "# loss = (Y - (w * X + b)) ** 2    # 一个样本的损失\n",
    "loss = tf.reduce_mean((Y - (w * X + b)) ** 2\n",
    "#                      + tf.contrib.layers.l2_regularizer(0.01)(w)    # regularize,0.01:lambda\n",
    "                     )\n",
    "train_step = tf.train.GradientDescentOptimizer(learning_rate).minimize(loss)"
   ]
  },
  {
   "cell_type": "code",
   "execution_count": 6,
   "metadata": {},
   "outputs": [],
   "source": [
    "# 3.生成会话并且在训练数据上反复运行反向传播优化算法\n",
    "with tf.Session() as sess:\n",
    "    sess.run(tf.global_variables_initializer())\n",
    "    \n",
    "    for i in range(count):\n",
    "        _, w_value, b_value = sess.run([train_step, w, b], feed_dict={X:X_train, Y:Y_train})\n",
    "        cost.append(sess.run(loss, feed_dict={X:X_train, Y:Y_train}))"
   ]
  },
  {
   "cell_type": "code",
   "execution_count": 7,
   "metadata": {},
   "outputs": [
    {
     "data": {
      "image/png": "[encoded data removed]",
      "text/plain": [
       "<Figure size 432x288 with 2 Axes>"
      ]
     },
     "metadata": {
      "needs_background": "light"
     },
     "output_type": "display_data"
    }
   ],
   "source": [
    "# 绘图\n",
    "plt.subplot(1,2,1)\n",
    "plt.plot(X_train, Y_train, '+')\n",
    "plt.plot(X_train, X_train.dot(w_value) + b_value)\n",
    "plt.subplot(1,2,2)\n",
    "plt.plot([x for x in range(count)], cost)\n",
    "plt.show()"
   ]
  }
 ],
 "metadata": {
  "kernelspec": {
   "display_name": "Python 3",
   "language": "python",
   "name": "python3"
  },
  "language_info": {
   "codemirror_mode": {
    "name": "ipython",
    "version": 3
   },
   "file_extension": ".py",
   "mimetype": "text/x-python",
   "name": "python",
   "nbconvert_exporter": "python",
   "pygments_lexer": "ipython3",
   "version": "3.5.2"
  }
 },
 "nbformat": 4,
 "nbformat_minor": 2
}
